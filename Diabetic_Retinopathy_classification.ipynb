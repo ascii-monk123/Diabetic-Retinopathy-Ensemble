{
  "nbformat": 4,
  "nbformat_minor": 0,
  "metadata": {
    "colab": {
      "provenance": [],
      "machine_shape": "hm",
      "gpuType": "V100",
      "authorship_tag": "ABX9TyOk38XqLNltF/e+I7ZMdQmL",
      "include_colab_link": true
    },
    "kernelspec": {
      "name": "python3",
      "display_name": "Python 3"
    },
    "language_info": {
      "name": "python"
    },
    "accelerator": "GPU"
  },
  "cells": [
    {
      "cell_type": "markdown",
      "metadata": {
        "id": "view-in-github",
        "colab_type": "text"
      },
      "source": [
        "<a href=\"https://colab.research.google.com/github/ascii-monk123/Diabetic-Retinopathy-Ensemble/blob/main/Diabetic_Retinopathy_classification.ipynb\" target=\"_parent\"><img src=\"https://colab.research.google.com/assets/colab-badge.svg\" alt=\"Open In Colab\"/></a>"
      ]
    },
    {
      "cell_type": "code",
      "execution_count": null,
      "metadata": {
        "id": "glmuEV8rQewR"
      },
      "outputs": [],
      "source": [
        "import seaborn as sns\n",
        "#importing necessary libraries\n",
        "import numpy as np\n",
        "import pandas as pd\n",
        "import matplotlib.pyplot as plt\n",
        "import cv2\n",
        "import tensorflow as tf\n",
        "import keras\n",
        "from tensorflow.keras.layers import Conv2D, MaxPooling2D, Dense, Flatten, Dropout, BatchNormalization,Activation\n",
        "from keras import Sequential\n",
        "from tensorflow.keras.callbacks import ReduceLROnPlateau, EarlyStopping, ModelCheckpoint\n",
        "from tensorflow.keras.preprocessing.image import ImageDataGenerator\n",
        "from tensorflow.keras.optimizers import Adam, RMSprop, SGD\n",
        "import os\n",
        "import seaborn as sns\n"
      ]
    },
    {
      "cell_type": "markdown",
      "source": [
        "<h2>Loading the dataset</h2>"
      ],
      "metadata": {
        "id": "rdFBCSjCRAeJ"
      }
    },
    {
      "cell_type": "code",
      "source": [
        "from google.colab import drive\n",
        "drive.mount('/content/drive')\n",
        "\n"
      ],
      "metadata": {
        "colab": {
          "base_uri": "https://localhost:8080/"
        },
        "id": "wszRNuH3QrTg",
        "outputId": "bb017984-8bda-41c5-b1d6-06e5c2a963cd"
      },
      "execution_count": null,
      "outputs": [
        {
          "output_type": "stream",
          "name": "stdout",
          "text": [
            "Drive already mounted at /content/drive; to attempt to forcibly remount, call drive.mount(\"/content/drive\", force_remount=True).\n"
          ]
        }
      ]
    },
    {
      "cell_type": "markdown",
      "source": [
        "<h2> Developing data generators </h2>"
      ],
      "metadata": {
        "id": "6jwbPPx5STOF"
      }
    },
    {
      "cell_type": "code",
      "source": [
        "train_datagen = ImageDataGenerator(rescale = 1./255, shear_range = 0.2,\n",
        "                                  zoom_range = 0.2, horizontal_flip = True)\n",
        "\n",
        "train_set = train_datagen.flow_from_directory('/content/drive/MyDrive/archive-2/train',target_size=(224, 224),\n",
        "                                              class_mode='categorical', batch_size = 32, shuffle = True)"
      ],
      "metadata": {
        "colab": {
          "base_uri": "https://localhost:8080/"
        },
        "id": "IORg0TxuSPN3",
        "outputId": "adfe6dc1-03c1-4459-dd0b-9e7fa06d1aba"
      },
      "execution_count": null,
      "outputs": [
        {
          "output_type": "stream",
          "name": "stdout",
          "text": [
            "Found 2076 images belonging to 2 classes.\n"
          ]
        }
      ]
    },
    {
      "cell_type": "code",
      "source": [
        "val_datagen = ImageDataGenerator(rescale = 1./255)\n",
        "\n",
        "val_set = val_datagen.flow_from_directory('/content/drive/MyDrive/archive-2/valid',target_size=(224, 224),\n",
        "                                              batch_size=32,\n",
        "                                              class_mode='categorical', shuffle = True)"
      ],
      "metadata": {
        "colab": {
          "base_uri": "https://localhost:8080/"
        },
        "id": "Ar-M6skxTORH",
        "outputId": "f1433e4e-a854-44b9-861b-3f2877d29512"
      },
      "execution_count": null,
      "outputs": [
        {
          "output_type": "stream",
          "name": "stdout",
          "text": [
            "Found 531 images belonging to 2 classes.\n"
          ]
        }
      ]
    },
    {
      "cell_type": "code",
      "source": [
        "test_datagen = ImageDataGenerator(rescale = 1./255)\n",
        "\n",
        "test_set = test_datagen.flow_from_directory('/content/drive/MyDrive/archive-2/test', target_size=(224, 224),\n",
        "                                              batch_size=32,\n",
        "                                              class_mode='categorical', shuffle = True)"
      ],
      "metadata": {
        "colab": {
          "base_uri": "https://localhost:8080/"
        },
        "id": "tDMWqZ9jTcjq",
        "outputId": "3c58591f-e5e9-419c-bd8d-2885e02ea520"
      },
      "execution_count": null,
      "outputs": [
        {
          "output_type": "stream",
          "name": "stdout",
          "text": [
            "Found 231 images belonging to 2 classes.\n"
          ]
        }
      ]
    },
    {
      "cell_type": "markdown",
      "source": [
        "<h2>VGG19</H2>"
      ],
      "metadata": {
        "id": "2SZtAjdYpKIj"
      }
    },
    {
      "cell_type": "code",
      "source": [
        "model = keras.applications.VGG19(weights = 'imagenet', include_top = False, input_shape = (224, 224, 3))\n"
      ],
      "metadata": {
        "id": "sZ5L6KgNpJhr"
      },
      "execution_count": null,
      "outputs": []
    },
    {
      "cell_type": "code",
      "source": [
        "for layers in model.layers:\n",
        "    layers.trainable = False\n"
      ],
      "metadata": {
        "id": "iR8a_cgTpbW_"
      },
      "execution_count": null,
      "outputs": []
    },
    {
      "cell_type": "code",
      "source": [
        "model.summary()"
      ],
      "metadata": {
        "colab": {
          "base_uri": "https://localhost:8080/"
        },
        "id": "_HShUHdPpgFc",
        "outputId": "54493538-e431-4d49-b669-dde299210311"
      },
      "execution_count": null,
      "outputs": [
        {
          "output_type": "stream",
          "name": "stdout",
          "text": [
            "Model: \"vgg19\"\n",
            "_________________________________________________________________\n",
            " Layer (type)                Output Shape              Param #   \n",
            "=================================================================\n",
            " input_1 (InputLayer)        [(None, 224, 224, 3)]     0         \n",
            "                                                                 \n",
            " block1_conv1 (Conv2D)       (None, 224, 224, 64)      1792      \n",
            "                                                                 \n",
            " block1_conv2 (Conv2D)       (None, 224, 224, 64)      36928     \n",
            "                                                                 \n",
            " block1_pool (MaxPooling2D)  (None, 112, 112, 64)      0         \n",
            "                                                                 \n",
            " block2_conv1 (Conv2D)       (None, 112, 112, 128)     73856     \n",
            "                                                                 \n",
            " block2_conv2 (Conv2D)       (None, 112, 112, 128)     147584    \n",
            "                                                                 \n",
            " block2_pool (MaxPooling2D)  (None, 56, 56, 128)       0         \n",
            "                                                                 \n",
            " block3_conv1 (Conv2D)       (None, 56, 56, 256)       295168    \n",
            "                                                                 \n",
            " block3_conv2 (Conv2D)       (None, 56, 56, 256)       590080    \n",
            "                                                                 \n",
            " block3_conv3 (Conv2D)       (None, 56, 56, 256)       590080    \n",
            "                                                                 \n",
            " block3_conv4 (Conv2D)       (None, 56, 56, 256)       590080    \n",
            "                                                                 \n",
            " block3_pool (MaxPooling2D)  (None, 28, 28, 256)       0         \n",
            "                                                                 \n",
            " block4_conv1 (Conv2D)       (None, 28, 28, 512)       1180160   \n",
            "                                                                 \n",
            " block4_conv2 (Conv2D)       (None, 28, 28, 512)       2359808   \n",
            "                                                                 \n",
            " block4_conv3 (Conv2D)       (None, 28, 28, 512)       2359808   \n",
            "                                                                 \n",
            " block4_conv4 (Conv2D)       (None, 28, 28, 512)       2359808   \n",
            "                                                                 \n",
            " block4_pool (MaxPooling2D)  (None, 14, 14, 512)       0         \n",
            "                                                                 \n",
            " block5_conv1 (Conv2D)       (None, 14, 14, 512)       2359808   \n",
            "                                                                 \n",
            " block5_conv2 (Conv2D)       (None, 14, 14, 512)       2359808   \n",
            "                                                                 \n",
            " block5_conv3 (Conv2D)       (None, 14, 14, 512)       2359808   \n",
            "                                                                 \n",
            " block5_conv4 (Conv2D)       (None, 14, 14, 512)       2359808   \n",
            "                                                                 \n",
            " block5_pool (MaxPooling2D)  (None, 7, 7, 512)         0         \n",
            "                                                                 \n",
            "=================================================================\n",
            "Total params: 20024384 (76.39 MB)\n",
            "Trainable params: 0 (0.00 Byte)\n",
            "Non-trainable params: 20024384 (76.39 MB)\n",
            "_________________________________________________________________\n"
          ]
        }
      ]
    },
    {
      "cell_type": "code",
      "source": [
        "vgg19 = Sequential([model, Flatten(), Dropout(0.2), Dense(256, activation = 'relu'), Dropout(0.2), Dense(2, activation = 'softmax')])\n"
      ],
      "metadata": {
        "id": "xgB6az-7pin4"
      },
      "execution_count": null,
      "outputs": []
    },
    {
      "cell_type": "code",
      "source": [
        "#callbacks\n",
        "reduce_lr = ReduceLROnPlateau(monitor = 'val_accuracy', factor = 0.4, patience = 4,\n",
        "                             verbose = 1, mode = 'max', min_lr = 1e-5)\n",
        "\n",
        "early_stopping = EarlyStopping(monitor = 'val_accuracy', patience = 10, verbose = 1,\n",
        "                              mode = 'max', restore_best_weights = True, start_from_epoch = 11)\n",
        "\n",
        "checkpoint_path = '/custom_cnn.tf'\n",
        "\n",
        "checkpoint = ModelCheckpoint(filepath = checkpoint_path, verbose = 1,\n",
        "                            monitor = 'val_accuracy', save_best_only = True,\n",
        "                            mode = 'max')\n"
      ],
      "metadata": {
        "id": "cIZyJcxie8UN"
      },
      "execution_count": null,
      "outputs": []
    },
    {
      "cell_type": "code",
      "source": [
        "vgg19.compile(\n",
        "    optimizer = Adam(lr=0.001),\n",
        "    loss='categorical_crossentropy',\n",
        "    metrics=['accuracy']\n",
        "  )"
      ],
      "metadata": {
        "colab": {
          "base_uri": "https://localhost:8080/"
        },
        "id": "nyejnfeJqBew",
        "outputId": "3bef3eb2-9065-4583-97d8-c50c48a27609"
      },
      "execution_count": null,
      "outputs": [
        {
          "output_type": "stream",
          "name": "stderr",
          "text": [
            "WARNING:absl:`lr` is deprecated in Keras optimizer, please use `learning_rate` or use the legacy optimizer, e.g.,tf.keras.optimizers.legacy.Adam.\n"
          ]
        }
      ]
    },
    {
      "cell_type": "code",
      "source": [
        "history = vgg19.fit(\n",
        "    train_set, epochs = 20, validation_data = val_set, callbacks = [reduce_lr, early_stopping, checkpoint]\n",
        ")"
      ],
      "metadata": {
        "colab": {
          "base_uri": "https://localhost:8080/"
        },
        "id": "uoL73iLGfEu1",
        "outputId": "d35107da-f856-401f-b41e-a8b423cd32ce"
      },
      "execution_count": null,
      "outputs": [
        {
          "output_type": "stream",
          "name": "stdout",
          "text": [
            "Epoch 1/20\n",
            "65/65 [==============================] - ETA: 0s - loss: 1.0495 - accuracy: 0.8276\n",
            "Epoch 1: val_loss improved from inf to 0.20650, saving model to /custom_cnn.tf\n",
            "65/65 [==============================] - 33s 439ms/step - loss: 1.0495 - accuracy: 0.8276 - val_loss: 0.2065 - val_accuracy: 0.9247 - lr: 0.0010\n",
            "Epoch 2/20\n",
            "65/65 [==============================] - ETA: 0s - loss: 0.2361 - accuracy: 0.9109\n",
            "Epoch 2: val_loss did not improve from 0.20650\n",
            "65/65 [==============================] - 25s 391ms/step - loss: 0.2361 - accuracy: 0.9109 - val_loss: 0.2452 - val_accuracy: 0.9153 - lr: 0.0010\n",
            "Epoch 3/20\n",
            "65/65 [==============================] - ETA: 0s - loss: 0.2346 - accuracy: 0.9138\n",
            "Epoch 3: val_loss improved from 0.20650 to 0.17563, saving model to /custom_cnn.tf\n",
            "65/65 [==============================] - 28s 428ms/step - loss: 0.2346 - accuracy: 0.9138 - val_loss: 0.1756 - val_accuracy: 0.9341 - lr: 0.0010\n",
            "Epoch 4/20\n",
            "65/65 [==============================] - ETA: 0s - loss: 0.2168 - accuracy: 0.9186\n",
            "Epoch 4: val_loss did not improve from 0.17563\n",
            "65/65 [==============================] - 25s 389ms/step - loss: 0.2168 - accuracy: 0.9186 - val_loss: 0.2049 - val_accuracy: 0.9228 - lr: 0.0010\n",
            "Epoch 5/20\n",
            "65/65 [==============================] - ETA: 0s - loss: 0.2289 - accuracy: 0.9171\n",
            "Epoch 5: val_loss did not improve from 0.17563\n",
            "65/65 [==============================] - 25s 390ms/step - loss: 0.2289 - accuracy: 0.9171 - val_loss: 0.2248 - val_accuracy: 0.9209 - lr: 0.0010\n",
            "Epoch 6/20\n",
            "65/65 [==============================] - ETA: 0s - loss: 0.1955 - accuracy: 0.9292\n",
            "Epoch 6: val_loss did not improve from 0.17563\n",
            "65/65 [==============================] - 26s 394ms/step - loss: 0.1955 - accuracy: 0.9292 - val_loss: 0.1864 - val_accuracy: 0.9303 - lr: 0.0010\n",
            "Epoch 7/20\n",
            "65/65 [==============================] - ETA: 0s - loss: 0.1836 - accuracy: 0.9282\n",
            "Epoch 7: val_loss did not improve from 0.17563\n",
            "65/65 [==============================] - 25s 391ms/step - loss: 0.1836 - accuracy: 0.9282 - val_loss: 0.1814 - val_accuracy: 0.9360 - lr: 0.0010\n",
            "Epoch 8/20\n",
            "65/65 [==============================] - ETA: 0s - loss: 0.1883 - accuracy: 0.9340\n",
            "Epoch 8: val_loss did not improve from 0.17563\n",
            "65/65 [==============================] - 25s 388ms/step - loss: 0.1883 - accuracy: 0.9340 - val_loss: 0.1988 - val_accuracy: 0.9228 - lr: 0.0010\n",
            "Epoch 9/20\n",
            "65/65 [==============================] - ETA: 0s - loss: 0.2014 - accuracy: 0.9326\n",
            "Epoch 9: val_loss improved from 0.17563 to 0.16814, saving model to /custom_cnn.tf\n",
            "65/65 [==============================] - 28s 429ms/step - loss: 0.2014 - accuracy: 0.9326 - val_loss: 0.1681 - val_accuracy: 0.9360 - lr: 0.0010\n",
            "Epoch 10/20\n",
            "65/65 [==============================] - ETA: 0s - loss: 0.1845 - accuracy: 0.9330\n",
            "Epoch 10: val_loss did not improve from 0.16814\n",
            "65/65 [==============================] - 26s 392ms/step - loss: 0.1845 - accuracy: 0.9330 - val_loss: 0.1982 - val_accuracy: 0.9303 - lr: 0.0010\n",
            "Epoch 11/20\n",
            "65/65 [==============================] - ETA: 0s - loss: 0.1695 - accuracy: 0.9427\n",
            "Epoch 11: val_loss did not improve from 0.16814\n",
            "65/65 [==============================] - 26s 394ms/step - loss: 0.1695 - accuracy: 0.9427 - val_loss: 0.1966 - val_accuracy: 0.9322 - lr: 0.0010\n",
            "Epoch 12/20\n",
            "65/65 [==============================] - ETA: 0s - loss: 0.1860 - accuracy: 0.9388\n",
            "Epoch 12: val_loss did not improve from 0.16814\n",
            "65/65 [==============================] - 26s 394ms/step - loss: 0.1860 - accuracy: 0.9388 - val_loss: 0.1960 - val_accuracy: 0.9303 - lr: 0.0010\n",
            "Epoch 13/20\n",
            "65/65 [==============================] - ETA: 0s - loss: 0.1754 - accuracy: 0.9393\n",
            "Epoch 13: val_loss did not improve from 0.16814\n",
            "65/65 [==============================] - 26s 394ms/step - loss: 0.1754 - accuracy: 0.9393 - val_loss: 0.1794 - val_accuracy: 0.9341 - lr: 0.0010\n",
            "Epoch 14/20\n",
            "65/65 [==============================] - ETA: 0s - loss: 0.1724 - accuracy: 0.9393\n",
            "Epoch 14: val_loss did not improve from 0.16814\n",
            "65/65 [==============================] - 25s 391ms/step - loss: 0.1724 - accuracy: 0.9393 - val_loss: 0.1784 - val_accuracy: 0.9341 - lr: 0.0010\n",
            "Epoch 15/20\n",
            "65/65 [==============================] - ETA: 0s - loss: 0.1669 - accuracy: 0.9422\n",
            "Epoch 15: val_loss did not improve from 0.16814\n",
            "65/65 [==============================] - 25s 390ms/step - loss: 0.1669 - accuracy: 0.9422 - val_loss: 0.2023 - val_accuracy: 0.9266 - lr: 0.0010\n",
            "Epoch 16/20\n",
            "65/65 [==============================] - ETA: 0s - loss: 0.1629 - accuracy: 0.9422\n",
            "Epoch 16: ReduceLROnPlateau reducing learning rate to 0.0004000000189989805.\n",
            "\n",
            "Epoch 16: val_loss did not improve from 0.16814\n",
            "65/65 [==============================] - 25s 391ms/step - loss: 0.1629 - accuracy: 0.9422 - val_loss: 0.2120 - val_accuracy: 0.9266 - lr: 0.0010\n",
            "Epoch 17/20\n",
            "65/65 [==============================] - ETA: 0s - loss: 0.1586 - accuracy: 0.9470\n",
            "Epoch 17: val_loss did not improve from 0.16814\n",
            "65/65 [==============================] - 26s 396ms/step - loss: 0.1586 - accuracy: 0.9470 - val_loss: 0.2281 - val_accuracy: 0.9284 - lr: 4.0000e-04\n",
            "Epoch 18/20\n",
            "65/65 [==============================] - ETA: 0s - loss: 0.1454 - accuracy: 0.9489\n",
            "Epoch 18: val_loss did not improve from 0.16814\n",
            "65/65 [==============================] - 25s 390ms/step - loss: 0.1454 - accuracy: 0.9489 - val_loss: 0.2249 - val_accuracy: 0.9303 - lr: 4.0000e-04\n",
            "Epoch 19/20\n",
            "65/65 [==============================] - ETA: 0s - loss: 0.1495 - accuracy: 0.9485\n",
            "Epoch 19: val_loss did not improve from 0.16814\n",
            "65/65 [==============================] - 25s 390ms/step - loss: 0.1495 - accuracy: 0.9485 - val_loss: 0.1817 - val_accuracy: 0.9303 - lr: 4.0000e-04\n",
            "Epoch 20/20\n",
            "65/65 [==============================] - ETA: 0s - loss: 0.1616 - accuracy: 0.9470\n",
            "Epoch 20: val_loss improved from 0.16814 to 0.16797, saving model to /custom_cnn.tf\n",
            "65/65 [==============================] - 28s 432ms/step - loss: 0.1616 - accuracy: 0.9470 - val_loss: 0.1680 - val_accuracy: 0.9322 - lr: 4.0000e-04\n"
          ]
        }
      ]
    },
    {
      "cell_type": "code",
      "source": [
        "fig, axes = plt.subplots(1, 2, figsize = (12, 4))\n",
        "\n",
        "sns.lineplot(x = range(len(history.history[\"loss\"])),\n",
        "             y = history.history[\"loss\"],\n",
        "             ax = axes[0], label = \"Training Loss\")\n",
        "\n",
        "sns.lineplot(x = range(len(history.history[\"loss\"])),\n",
        "             y = history.history[\"val_loss\"],\n",
        "             ax = axes[0], label = \"Validation Loss\")\n",
        "\n",
        "sns.lineplot(x = range(len(history.history[\"accuracy\"])),\n",
        "             y = history.history[\"accuracy\"],\n",
        "             ax = axes[1], label = \"Training Accuracy\")\n",
        "\n",
        "sns.lineplot(x = range(len(history.history[\"accuracy\"])),\n",
        "             y = history.history[\"val_accuracy\"],\n",
        "             ax = axes[1], label = \"Validation Accuracy\")\n",
        "\n",
        "axes[0].set_title(\"Loss\")\n",
        "axes[1].set_title(\"Accuracy\")\n",
        "fig.suptitle(\"VGG 19\")\n",
        "\n",
        "plt.tight_layout()\n",
        "\n",
        "sns.despine()\n",
        "plt.savefig('vgg19.eps', format = 'eps', dpi = 1200)\n",
        "plt.savefig('vgg19.png', format = 'png', dpi = 1200)"
      ],
      "metadata": {
        "colab": {
          "base_uri": "https://localhost:8080/",
          "height": 392
        },
        "id": "eweUAiWFfJmC",
        "outputId": "86ec21f3-25eb-488e-c269-d8dabd4d67fa"
      },
      "execution_count": null,
      "outputs": [
        {
          "output_type": "stream",
          "name": "stderr",
          "text": [
            "WARNING:matplotlib.backends.backend_ps:The PostScript backend does not support transparency; partially transparent artists will be rendered opaque.\n"
          ]
        },
        {
          "output_type": "display_data",
          "data": {
            "text/plain": [
              "<Figure size 1200x400 with 2 Axes>"
            ],
            "image/png": "[encoded data removed]"
          },
          "metadata": {}
        }
      ]
    },
    {
      "cell_type": "code",
      "source": [
        "!zip -r /content/file.zip /custom_cnn.tf"
      ],
      "metadata": {
        "colab": {
          "base_uri": "https://localhost:8080/"
        },
        "id": "u-cObDhtyiZr",
        "outputId": "1618edcb-e653-4bf0-9112-7aa5a5934cdb"
      },
      "execution_count": null,
      "outputs": [
        {
          "output_type": "stream",
          "name": "stdout",
          "text": [
            "  adding: custom_cnn.tf/ (stored 0%)\n",
            "  adding: custom_cnn.tf/keras_metadata.pb (deflated 96%)\n",
            "  adding: custom_cnn.tf/assets/ (stored 0%)\n",
            "  adding: custom_cnn.tf/variables/ (stored 0%)\n",
            "  adding: custom_cnn.tf/variables/variables.data-00000-of-00001 (deflated 24%)\n",
            "  adding: custom_cnn.tf/variables/variables.index (deflated 67%)\n",
            "  adding: custom_cnn.tf/fingerprint.pb (stored 0%)\n",
            "  adding: custom_cnn.tf/saved_model.pb (deflated 90%)\n"
          ]
        }
      ]
    },
    {
      "cell_type": "code",
      "source": [
        "m2 = tf.keras.models.load_model(checkpoint_path)"
      ],
      "metadata": {
        "id": "3KEZZSm1zKOl"
      },
      "execution_count": null,
      "outputs": []
    },
    {
      "cell_type": "code",
      "source": [
        "m2.evaluate(test_set)"
      ],
      "metadata": {
        "colab": {
          "base_uri": "https://localhost:8080/"
        },
        "id": "fdrDv1pd1JBe",
        "outputId": "c34174da-2a8d-420f-a602-f08f09a18046"
      },
      "execution_count": null,
      "outputs": [
        {
          "output_type": "stream",
          "name": "stdout",
          "text": [
            "8/8 [==============================] - 1s 113ms/step - loss: 0.1360 - accuracy: 0.9481\n"
          ]
        },
        {
          "output_type": "execute_result",
          "data": {
            "text/plain": [
              "[0.13600754737854004, 0.948051929473877]"
            ]
          },
          "metadata": {},
          "execution_count": 19
        }
      ]
    },
    {
      "cell_type": "markdown",
      "source": [
        "<h2>Resnet</h2>"
      ],
      "metadata": {
        "id": "wX5xBoM-2VAn"
      }
    },
    {
      "cell_type": "code",
      "source": [
        "model = keras.applications.VGG16(weights = 'imagenet', include_top = False, input_shape = (224, 224, 3))\n",
        "for layers in model.layers:\n",
        "    layers.trainable = False\n"
      ],
      "metadata": {
        "colab": {
          "base_uri": "https://localhost:8080/"
        },
        "id": "nlMgwkAH1OJs",
        "outputId": "6c821ca3-0ea4-450d-ea47-efd8018b9dbc"
      },
      "execution_count": null,
      "outputs": [
        {
          "output_type": "stream",
          "name": "stdout",
          "text": [
            "Downloading data from https://storage.googleapis.com/tensorflow/keras-applications/vgg16/vgg16_weights_tf_dim_ordering_tf_kernels_notop.h5\n",
            "58889256/58889256 [==============================] - 2s 0us/step\n"
          ]
        }
      ]
    },
    {
      "cell_type": "code",
      "source": [
        "vgg16 = Sequential([model, Flatten(), Dropout(0.2), Dense(256, activation = 'relu'), Dropout(0.2), Dense(2, activation = 'softmax')])"
      ],
      "metadata": {
        "id": "XPDxQyud2amM"
      },
      "execution_count": null,
      "outputs": []
    },
    {
      "cell_type": "code",
      "source": [
        "vgg16.summary()"
      ],
      "metadata": {
        "colab": {
          "base_uri": "https://localhost:8080/"
        },
        "id": "6CdjogEo2j8j",
        "outputId": "9611458d-e156-4f6d-82c5-62ed5dd0ca40"
      },
      "execution_count": null,
      "outputs": [
        {
          "output_type": "stream",
          "name": "stdout",
          "text": [
            "Model: \"sequential_6\"\n",
            "_________________________________________________________________\n",
            " Layer (type)                Output Shape              Param #   \n",
            "=================================================================\n",
            " vgg16 (Functional)          (None, 7, 7, 512)         14714688  \n",
            "                                                                 \n",
            " flatten_6 (Flatten)         (None, 25088)             0         \n",
            "                                                                 \n",
            " dropout_12 (Dropout)        (None, 25088)             0         \n",
            "                                                                 \n",
            " dense_12 (Dense)            (None, 256)               6422784   \n",
            "                                                                 \n",
            " dropout_13 (Dropout)        (None, 256)               0         \n",
            "                                                                 \n",
            " dense_13 (Dense)            (None, 2)                 514       \n",
            "                                                                 \n",
            "=================================================================\n",
            "Total params: 21137986 (80.64 MB)\n",
            "Trainable params: 6423298 (24.50 MB)\n",
            "Non-trainable params: 14714688 (56.13 MB)\n",
            "_________________________________________________________________\n"
          ]
        }
      ]
    },
    {
      "cell_type": "code",
      "source": [
        "vgg16.compile(\n",
        "    optimizer = Adam(lr = 0.01),\n",
        "    loss='categorical_crossentropy',\n",
        "    metrics=['accuracy']\n",
        "  )"
      ],
      "metadata": {
        "colab": {
          "base_uri": "https://localhost:8080/"
        },
        "id": "IS3HHJFX2lA6",
        "outputId": "df85f990-5160-4ecf-c397-d761946d42d7"
      },
      "execution_count": null,
      "outputs": [
        {
          "output_type": "stream",
          "name": "stderr",
          "text": [
            "WARNING:absl:`lr` is deprecated in Keras optimizer, please use `learning_rate` or use the legacy optimizer, e.g.,tf.keras.optimizers.legacy.Adam.\n"
          ]
        }
      ]
    },
    {
      "cell_type": "code",
      "source": [
        "history = vgg16.fit(\n",
        "    train_set, epochs = 20, validation_data = val_set, callbacks = [reduce_lr, early_stopping, checkpoint]\n",
        ")"
      ],
      "metadata": {
        "colab": {
          "base_uri": "https://localhost:8080/"
        },
        "id": "Lq0vlm_N2pWW",
        "outputId": "854761a6-0db7-497c-d90a-c396e72ea9df"
      },
      "execution_count": null,
      "outputs": [
        {
          "output_type": "stream",
          "name": "stdout",
          "text": [
            "Epoch 1/20\n",
            "65/65 [==============================] - ETA: 0s - loss: 0.8428 - accuracy: 0.8348\n",
            "Epoch 1: val_accuracy improved from 0.54614 to 0.92655, saving model to /custom_cnn.tf\n",
            "65/65 [==============================] - 28s 420ms/step - loss: 0.8428 - accuracy: 0.8348 - val_loss: 0.1932 - val_accuracy: 0.9266 - lr: 0.0010\n",
            "Epoch 2/20\n",
            "65/65 [==============================] - ETA: 0s - loss: 0.2392 - accuracy: 0.9205\n",
            "Epoch 2: val_accuracy improved from 0.92655 to 0.93032, saving model to /custom_cnn.tf\n",
            "65/65 [==============================] - 29s 441ms/step - loss: 0.2392 - accuracy: 0.9205 - val_loss: 0.1787 - val_accuracy: 0.9303 - lr: 0.0010\n",
            "Epoch 3/20\n",
            "65/65 [==============================] - ETA: 0s - loss: 0.2196 - accuracy: 0.9253\n",
            "Epoch 3: val_accuracy improved from 0.93032 to 0.93220, saving model to /custom_cnn.tf\n",
            "65/65 [==============================] - 28s 424ms/step - loss: 0.2196 - accuracy: 0.9253 - val_loss: 0.1787 - val_accuracy: 0.9322 - lr: 0.0010\n",
            "Epoch 4/20\n",
            "65/65 [==============================] - ETA: 0s - loss: 0.1919 - accuracy: 0.9326\n",
            "Epoch 4: val_accuracy did not improve from 0.93220\n",
            "65/65 [==============================] - 25s 390ms/step - loss: 0.1919 - accuracy: 0.9326 - val_loss: 0.1891 - val_accuracy: 0.9303 - lr: 0.0010\n",
            "Epoch 5/20\n",
            "65/65 [==============================] - ETA: 0s - loss: 0.1923 - accuracy: 0.9364\n",
            "Epoch 5: val_accuracy improved from 0.93220 to 0.93409, saving model to /custom_cnn.tf\n",
            "65/65 [==============================] - 28s 425ms/step - loss: 0.1923 - accuracy: 0.9364 - val_loss: 0.1836 - val_accuracy: 0.9341 - lr: 0.0010\n",
            "Epoch 6/20\n",
            "65/65 [==============================] - ETA: 0s - loss: 0.1830 - accuracy: 0.9388\n",
            "Epoch 6: val_accuracy did not improve from 0.93409\n",
            "65/65 [==============================] - 26s 393ms/step - loss: 0.1830 - accuracy: 0.9388 - val_loss: 0.2863 - val_accuracy: 0.9190 - lr: 0.0010\n",
            "Epoch 7/20\n",
            "65/65 [==============================] - ETA: 0s - loss: 0.1831 - accuracy: 0.9359\n",
            "Epoch 7: val_accuracy did not improve from 0.93409\n",
            "65/65 [==============================] - 26s 393ms/step - loss: 0.1831 - accuracy: 0.9359 - val_loss: 0.2571 - val_accuracy: 0.9228 - lr: 0.0010\n",
            "Epoch 8/20\n",
            "65/65 [==============================] - ETA: 0s - loss: 0.1690 - accuracy: 0.9417\n",
            "Epoch 8: val_accuracy did not improve from 0.93409\n",
            "65/65 [==============================] - 25s 389ms/step - loss: 0.1690 - accuracy: 0.9417 - val_loss: 0.2039 - val_accuracy: 0.9341 - lr: 0.0010\n",
            "Epoch 9/20\n",
            "65/65 [==============================] - ETA: 0s - loss: 0.1769 - accuracy: 0.9398\n",
            "Epoch 9: val_accuracy improved from 0.93409 to 0.93974, saving model to /custom_cnn.tf\n",
            "65/65 [==============================] - 28s 428ms/step - loss: 0.1769 - accuracy: 0.9398 - val_loss: 0.1787 - val_accuracy: 0.9397 - lr: 0.0010\n",
            "Epoch 10/20\n",
            "65/65 [==============================] - ETA: 0s - loss: 0.1671 - accuracy: 0.9485\n",
            "Epoch 10: val_accuracy did not improve from 0.93974\n",
            "65/65 [==============================] - 26s 397ms/step - loss: 0.1671 - accuracy: 0.9485 - val_loss: 0.1920 - val_accuracy: 0.9341 - lr: 0.0010\n",
            "Epoch 11/20\n",
            "65/65 [==============================] - ETA: 0s - loss: 0.1777 - accuracy: 0.9422\n",
            "Epoch 11: val_accuracy improved from 0.93974 to 0.94162, saving model to /custom_cnn.tf\n",
            "65/65 [==============================] - 28s 426ms/step - loss: 0.1777 - accuracy: 0.9422 - val_loss: 0.1582 - val_accuracy: 0.9416 - lr: 0.0010\n",
            "Epoch 12/20\n",
            "65/65 [==============================] - ETA: 0s - loss: 0.1652 - accuracy: 0.9465\n",
            "Epoch 12: val_accuracy did not improve from 0.94162\n",
            "65/65 [==============================] - 26s 397ms/step - loss: 0.1652 - accuracy: 0.9465 - val_loss: 0.1670 - val_accuracy: 0.9379 - lr: 0.0010\n",
            "Epoch 13/20\n",
            "65/65 [==============================] - ETA: 0s - loss: 0.1613 - accuracy: 0.9489\n",
            "Epoch 13: val_accuracy did not improve from 0.94162\n",
            "65/65 [==============================] - 25s 390ms/step - loss: 0.1613 - accuracy: 0.9489 - val_loss: 0.1687 - val_accuracy: 0.9360 - lr: 0.0010\n",
            "Epoch 14/20\n",
            "65/65 [==============================] - ETA: 0s - loss: 0.1375 - accuracy: 0.9518\n",
            "Epoch 14: val_accuracy did not improve from 0.94162\n",
            "65/65 [==============================] - 26s 395ms/step - loss: 0.1375 - accuracy: 0.9518 - val_loss: 0.1573 - val_accuracy: 0.9379 - lr: 0.0010\n",
            "Epoch 15/20\n",
            "65/65 [==============================] - ETA: 0s - loss: 0.1404 - accuracy: 0.9552\n",
            "Epoch 15: ReduceLROnPlateau reducing learning rate to 0.0004000000189989805.\n",
            "\n",
            "Epoch 15: val_accuracy did not improve from 0.94162\n",
            "65/65 [==============================] - 26s 395ms/step - loss: 0.1404 - accuracy: 0.9552 - val_loss: 0.1554 - val_accuracy: 0.9379 - lr: 0.0010\n",
            "Epoch 16/20\n",
            "65/65 [==============================] - ETA: 0s - loss: 0.1352 - accuracy: 0.9610\n",
            "Epoch 16: val_accuracy did not improve from 0.94162\n",
            "65/65 [==============================] - 26s 399ms/step - loss: 0.1352 - accuracy: 0.9610 - val_loss: 0.1708 - val_accuracy: 0.9322 - lr: 4.0000e-04\n",
            "Epoch 17/20\n",
            "65/65 [==============================] - ETA: 0s - loss: 0.1373 - accuracy: 0.9557\n",
            "Epoch 17: val_accuracy did not improve from 0.94162\n",
            "65/65 [==============================] - 26s 397ms/step - loss: 0.1373 - accuracy: 0.9557 - val_loss: 0.1951 - val_accuracy: 0.9360 - lr: 4.0000e-04\n",
            "Epoch 18/20\n",
            "65/65 [==============================] - ETA: 0s - loss: 0.1378 - accuracy: 0.9610\n",
            "Epoch 18: val_accuracy did not improve from 0.94162\n",
            "65/65 [==============================] - 26s 398ms/step - loss: 0.1378 - accuracy: 0.9610 - val_loss: 0.1677 - val_accuracy: 0.9416 - lr: 4.0000e-04\n",
            "Epoch 19/20\n",
            "65/65 [==============================] - ETA: 0s - loss: 0.1222 - accuracy: 0.9610\n",
            "Epoch 19: ReduceLROnPlateau reducing learning rate to 0.00016000000759959222.\n",
            "\n",
            "Epoch 19: val_accuracy did not improve from 0.94162\n",
            "65/65 [==============================] - 26s 396ms/step - loss: 0.1222 - accuracy: 0.9610 - val_loss: 0.2120 - val_accuracy: 0.9303 - lr: 4.0000e-04\n",
            "Epoch 20/20\n",
            "65/65 [==============================] - ETA: 0s - loss: 0.1232 - accuracy: 0.9658\n",
            "Epoch 20: val_accuracy did not improve from 0.94162\n",
            "65/65 [==============================] - 26s 396ms/step - loss: 0.1232 - accuracy: 0.9658 - val_loss: 0.1795 - val_accuracy: 0.9360 - lr: 1.6000e-04\n"
          ]
        }
      ]
    },
    {
      "cell_type": "code",
      "source": [
        "fig, axes = plt.subplots(1, 2, figsize = (12, 4))\n",
        "\n",
        "sns.lineplot(x = range(len(history.history[\"loss\"])),\n",
        "             y = history.history[\"loss\"],\n",
        "             ax = axes[0], label = \"Training Loss\")\n",
        "\n",
        "sns.lineplot(x = range(len(history.history[\"loss\"])),\n",
        "             y = history.history[\"val_loss\"],\n",
        "             ax = axes[0], label = \"Validation Loss\")\n",
        "\n",
        "sns.lineplot(x = range(len(history.history[\"accuracy\"])),\n",
        "             y = history.history[\"accuracy\"],\n",
        "             ax = axes[1], label = \"Training Accuracy\")\n",
        "\n",
        "sns.lineplot(x = range(len(history.history[\"accuracy\"])),\n",
        "             y = history.history[\"val_accuracy\"],\n",
        "             ax = axes[1], label = \"Validation Accuracy\")\n",
        "\n",
        "axes[0].set_title(\"Loss\")\n",
        "axes[1].set_title(\"Accuracy\")\n",
        "fig.suptitle(\"VGG 19\")\n",
        "\n",
        "plt.tight_layout()\n",
        "\n",
        "sns.despine()\n",
        "plt.savefig('vgg16.eps', format = 'eps', dpi = 1200)\n",
        "plt.savefig('vgg16.png', format = 'png', dpi = 1200)"
      ],
      "metadata": {
        "colab": {
          "base_uri": "https://localhost:8080/",
          "height": 450
        },
        "id": "sAI2RGkQ3ab7",
        "outputId": "9bb3f4d2-31c6-4356-9568-0399542e1080"
      },
      "execution_count": null,
      "outputs": [
        {
          "output_type": "stream",
          "name": "stderr",
          "text": [
            "WARNING:matplotlib.backends.backend_ps:The PostScript backend does not support transparency; partially transparent artists will be rendered opaque.\n"
          ]
        },
        {
          "output_type": "display_data",
          "data": {
            "text/plain": [
              "<Figure size 1200x400 with 2 Axes>"
            ],
            "image/png": "[encoded data removed]"
          },
          "metadata": {}
        }
      ]
    },
    {
      "cell_type": "code",
      "source": [
        "m2 = tf.keras.models.load_model(checkpoint_path)"
      ],
      "metadata": {
        "id": "sWUKZOiT88LZ"
      },
      "execution_count": null,
      "outputs": []
    },
    {
      "cell_type": "code",
      "source": [
        "m2.evaluate(test_set)"
      ],
      "metadata": {
        "colab": {
          "base_uri": "https://localhost:8080/"
        },
        "id": "B7EHGdpj8-qh",
        "outputId": "2b38bec2-ae82-4c5d-cd8c-40becf025dfa"
      },
      "execution_count": null,
      "outputs": [
        {
          "output_type": "stream",
          "name": "stdout",
          "text": [
            "8/8 [==============================] - 1s 69ms/step - loss: 0.1363 - accuracy: 0.9610\n"
          ]
        },
        {
          "output_type": "execute_result",
          "data": {
            "text/plain": [
              "[0.1362587809562683, 0.9610389471054077]"
            ]
          },
          "metadata": {},
          "execution_count": 63
        }
      ]
    },
    {
      "cell_type": "code",
      "source": [
        "!zip -r /content/vgg16.zip /custom_cnn.tf"
      ],
      "metadata": {
        "colab": {
          "base_uri": "https://localhost:8080/"
        },
        "id": "p1s3ljkJ9AqE",
        "outputId": "84b0d51f-bccb-47d6-ac98-de03c0afa854"
      },
      "execution_count": null,
      "outputs": [
        {
          "output_type": "stream",
          "name": "stdout",
          "text": [
            "  adding: custom_cnn.tf/ (stored 0%)\n",
            "  adding: custom_cnn.tf/keras_metadata.pb (deflated 96%)\n",
            "  adding: custom_cnn.tf/assets/ (stored 0%)\n",
            "  adding: custom_cnn.tf/variables/ (stored 0%)\n",
            "  adding: custom_cnn.tf/variables/variables.data-00000-of-00001 (deflated 20%)\n",
            "  adding: custom_cnn.tf/variables/variables.index (deflated 65%)\n",
            "  adding: custom_cnn.tf/fingerprint.pb (stored 0%)\n",
            "  adding: custom_cnn.tf/saved_model.pb (deflated 89%)\n"
          ]
        }
      ]
    },
    {
      "cell_type": "markdown",
      "source": [
        "<h2>InceptionV3</h2>"
      ],
      "metadata": {
        "id": "hPcvid_4B4Wl"
      }
    },
    {
      "cell_type": "code",
      "source": [
        "model = keras.applications.InceptionV3(weights = 'imagenet', include_top = False, input_shape = (224, 224, 3))\n",
        "for layers in model.layers:\n",
        "    layers.trainable = False\n"
      ],
      "metadata": {
        "colab": {
          "base_uri": "https://localhost:8080/"
        },
        "id": "X78YBwjl9Qon",
        "outputId": "0d16fd4b-28a4-4fb3-f030-bf9b84674b82"
      },
      "execution_count": null,
      "outputs": [
        {
          "output_type": "stream",
          "name": "stdout",
          "text": [
            "Downloading data from https://storage.googleapis.com/tensorflow/keras-applications/inception_v3/inception_v3_weights_tf_dim_ordering_tf_kernels_notop.h5\n",
            "87910968/87910968 [==============================] - 3s 0us/step\n"
          ]
        }
      ]
    },
    {
      "cell_type": "code",
      "source": [
        "inception_v3 = Sequential([model, Flatten(), Dropout(0.2), Dense(256, activation = 'relu'), Dropout(0.2), Dense(2, activation = 'softmax')])"
      ],
      "metadata": {
        "id": "H9TQdbmYB-D6"
      },
      "execution_count": null,
      "outputs": []
    },
    {
      "cell_type": "code",
      "source": [
        "inception_v3.summary()"
      ],
      "metadata": {
        "colab": {
          "base_uri": "https://localhost:8080/"
        },
        "id": "vphR3TT9CDFp",
        "outputId": "23868055-3360-4f3a-ff97-d7ac8d60f505"
      },
      "execution_count": null,
      "outputs": [
        {
          "output_type": "stream",
          "name": "stdout",
          "text": [
            "Model: \"sequential_7\"\n",
            "_________________________________________________________________\n",
            " Layer (type)                Output Shape              Param #   \n",
            "=================================================================\n",
            " inception_v3 (Functional)   (None, 5, 5, 2048)        21802784  \n",
            "                                                                 \n",
            " flatten_7 (Flatten)         (None, 51200)             0         \n",
            "                                                                 \n",
            " dropout_14 (Dropout)        (None, 51200)             0         \n",
            "                                                                 \n",
            " dense_14 (Dense)            (None, 256)               13107456  \n",
            "                                                                 \n",
            " dropout_15 (Dropout)        (None, 256)               0         \n",
            "                                                                 \n",
            " dense_15 (Dense)            (None, 2)                 514       \n",
            "                                                                 \n",
            "=================================================================\n",
            "Total params: 34910754 (133.17 MB)\n",
            "Trainable params: 13107970 (50.00 MB)\n",
            "Non-trainable params: 21802784 (83.17 MB)\n",
            "_________________________________________________________________\n"
          ]
        }
      ]
    },
    {
      "cell_type": "code",
      "source": [
        "inception_v3.compile(\n",
        "    optimizer = Adam(lr = 0.01),\n",
        "    loss='categorical_crossentropy',\n",
        "    metrics=['accuracy']\n",
        "  )"
      ],
      "metadata": {
        "colab": {
          "base_uri": "https://localhost:8080/"
        },
        "id": "xI4MXa6LCFR3",
        "outputId": "9ee752b0-e0c5-41c7-82de-614fa24f7033"
      },
      "execution_count": null,
      "outputs": [
        {
          "output_type": "stream",
          "name": "stderr",
          "text": [
            "WARNING:absl:`lr` is deprecated in Keras optimizer, please use `learning_rate` or use the legacy optimizer, e.g.,tf.keras.optimizers.legacy.Adam.\n"
          ]
        }
      ]
    },
    {
      "cell_type": "code",
      "source": [
        "history = inception_v3.fit(\n",
        "    train_set, epochs = 20, validation_data = val_set, callbacks = [reduce_lr, early_stopping, checkpoint]\n",
        ")"
      ],
      "metadata": {
        "colab": {
          "base_uri": "https://localhost:8080/"
        },
        "id": "nGlwaKxHCNkB",
        "outputId": "270272b9-7cda-4e42-f169-831fb2555070"
      },
      "execution_count": null,
      "outputs": [
        {
          "output_type": "stream",
          "name": "stdout",
          "text": [
            "Epoch 1/20\n",
            "65/65 [==============================] - ETA: 0s - loss: 5.4780 - accuracy: 0.8439\n",
            "Epoch 1: val_accuracy did not improve from 0.94162\n",
            "65/65 [==============================] - 32s 414ms/step - loss: 5.4780 - accuracy: 0.8439 - val_loss: 0.6132 - val_accuracy: 0.9284 - lr: 0.0010\n",
            "Epoch 2/20\n",
            "65/65 [==============================] - ETA: 0s - loss: 0.5941 - accuracy: 0.9061\n",
            "Epoch 2: val_accuracy did not improve from 0.94162\n",
            "65/65 [==============================] - 26s 397ms/step - loss: 0.5941 - accuracy: 0.9061 - val_loss: 0.2193 - val_accuracy: 0.9190 - lr: 0.0010\n",
            "Epoch 3/20\n",
            "65/65 [==============================] - ETA: 0s - loss: 0.2036 - accuracy: 0.9403\n",
            "Epoch 3: val_accuracy did not improve from 0.94162\n",
            "65/65 [==============================] - 26s 396ms/step - loss: 0.2036 - accuracy: 0.9403 - val_loss: 0.1886 - val_accuracy: 0.9360 - lr: 0.0010\n",
            "Epoch 4/20\n",
            "65/65 [==============================] - ETA: 0s - loss: 0.1682 - accuracy: 0.9513\n",
            "Epoch 4: val_accuracy improved from 0.94162 to 0.95104, saving model to /custom_cnn.tf\n",
            "65/65 [==============================] - 52s 811ms/step - loss: 0.1682 - accuracy: 0.9513 - val_loss: 0.1394 - val_accuracy: 0.9510 - lr: 0.0010\n",
            "Epoch 5/20\n",
            "65/65 [==============================] - ETA: 0s - loss: 0.1380 - accuracy: 0.9533\n",
            "Epoch 5: val_accuracy improved from 0.95104 to 0.95292, saving model to /custom_cnn.tf\n",
            "65/65 [==============================] - 55s 855ms/step - loss: 0.1380 - accuracy: 0.9533 - val_loss: 0.1360 - val_accuracy: 0.9529 - lr: 0.0010\n",
            "Epoch 6/20\n",
            "65/65 [==============================] - ETA: 0s - loss: 0.1467 - accuracy: 0.9427\n",
            "Epoch 6: val_accuracy did not improve from 0.95292\n",
            "65/65 [==============================] - 26s 396ms/step - loss: 0.1467 - accuracy: 0.9427 - val_loss: 0.2107 - val_accuracy: 0.9454 - lr: 0.0010\n",
            "Epoch 7/20\n",
            "65/65 [==============================] - ETA: 0s - loss: 0.1233 - accuracy: 0.9595\n",
            "Epoch 7: val_accuracy improved from 0.95292 to 0.96045, saving model to /custom_cnn.tf\n",
            "65/65 [==============================] - 52s 811ms/step - loss: 0.1233 - accuracy: 0.9595 - val_loss: 0.1268 - val_accuracy: 0.9605 - lr: 0.0010\n",
            "Epoch 8/20\n",
            "65/65 [==============================] - ETA: 0s - loss: 0.1216 - accuracy: 0.9595\n",
            "Epoch 8: val_accuracy did not improve from 0.96045\n",
            "65/65 [==============================] - 25s 386ms/step - loss: 0.1216 - accuracy: 0.9595 - val_loss: 0.1806 - val_accuracy: 0.9435 - lr: 0.0010\n",
            "Epoch 9/20\n",
            "65/65 [==============================] - ETA: 0s - loss: 0.1311 - accuracy: 0.9542\n",
            "Epoch 9: val_accuracy did not improve from 0.96045\n",
            "65/65 [==============================] - 25s 387ms/step - loss: 0.1311 - accuracy: 0.9542 - val_loss: 0.1515 - val_accuracy: 0.9529 - lr: 0.0010\n",
            "Epoch 10/20\n",
            "65/65 [==============================] - ETA: 0s - loss: 0.1258 - accuracy: 0.9547\n",
            "Epoch 10: val_accuracy did not improve from 0.96045\n",
            "65/65 [==============================] - 25s 388ms/step - loss: 0.1258 - accuracy: 0.9547 - val_loss: 0.1314 - val_accuracy: 0.9510 - lr: 0.0010\n",
            "Epoch 11/20\n",
            "65/65 [==============================] - ETA: 0s - loss: 0.1311 - accuracy: 0.9566\n",
            "Epoch 11: ReduceLROnPlateau reducing learning rate to 0.0004000000189989805.\n",
            "\n",
            "Epoch 11: val_accuracy did not improve from 0.96045\n",
            "65/65 [==============================] - 25s 385ms/step - loss: 0.1311 - accuracy: 0.9566 - val_loss: 0.1460 - val_accuracy: 0.9548 - lr: 0.0010\n",
            "Epoch 12/20\n",
            "65/65 [==============================] - ETA: 0s - loss: 0.1017 - accuracy: 0.9658\n",
            "Epoch 12: val_accuracy did not improve from 0.96045\n",
            "65/65 [==============================] - 26s 398ms/step - loss: 0.1017 - accuracy: 0.9658 - val_loss: 0.1410 - val_accuracy: 0.9586 - lr: 4.0000e-04\n",
            "Epoch 13/20\n",
            "65/65 [==============================] - ETA: 0s - loss: 0.0810 - accuracy: 0.9754\n",
            "Epoch 13: val_accuracy did not improve from 0.96045\n",
            "65/65 [==============================] - 25s 392ms/step - loss: 0.0810 - accuracy: 0.9754 - val_loss: 0.1811 - val_accuracy: 0.9605 - lr: 4.0000e-04\n",
            "Epoch 14/20\n",
            "65/65 [==============================] - ETA: 0s - loss: 0.0838 - accuracy: 0.9721\n",
            "Epoch 14: val_accuracy did not improve from 0.96045\n",
            "65/65 [==============================] - 25s 390ms/step - loss: 0.0838 - accuracy: 0.9721 - val_loss: 0.1382 - val_accuracy: 0.9586 - lr: 4.0000e-04\n",
            "Epoch 15/20\n",
            "65/65 [==============================] - ETA: 0s - loss: 0.0822 - accuracy: 0.9716\n",
            "Epoch 15: ReduceLROnPlateau reducing learning rate to 0.00016000000759959222.\n",
            "\n",
            "Epoch 15: val_accuracy did not improve from 0.96045\n",
            "65/65 [==============================] - 25s 388ms/step - loss: 0.0822 - accuracy: 0.9716 - val_loss: 0.1346 - val_accuracy: 0.9605 - lr: 4.0000e-04\n",
            "Epoch 16/20\n",
            "65/65 [==============================] - ETA: 0s - loss: 0.0712 - accuracy: 0.9745\n",
            "Epoch 16: val_accuracy did not improve from 0.96045\n",
            "65/65 [==============================] - 25s 389ms/step - loss: 0.0712 - accuracy: 0.9745 - val_loss: 0.1494 - val_accuracy: 0.9586 - lr: 1.6000e-04\n",
            "Epoch 17/20\n",
            "65/65 [==============================] - ETA: 0s - loss: 0.0743 - accuracy: 0.9740\n",
            "Epoch 17: val_accuracy did not improve from 0.96045\n",
            "65/65 [==============================] - 25s 390ms/step - loss: 0.0743 - accuracy: 0.9740 - val_loss: 0.1448 - val_accuracy: 0.9529 - lr: 1.6000e-04\n",
            "Epoch 18/20\n",
            "65/65 [==============================] - ETA: 0s - loss: 0.0697 - accuracy: 0.9774\n",
            "Epoch 18: val_accuracy did not improve from 0.96045\n",
            "65/65 [==============================] - 26s 394ms/step - loss: 0.0697 - accuracy: 0.9774 - val_loss: 0.1464 - val_accuracy: 0.9567 - lr: 1.6000e-04\n",
            "Epoch 19/20\n",
            "65/65 [==============================] - ETA: 0s - loss: 0.0758 - accuracy: 0.9725\n",
            "Epoch 19: ReduceLROnPlateau reducing learning rate to 6.40000042039901e-05.\n",
            "\n",
            "Epoch 19: val_accuracy did not improve from 0.96045\n",
            "65/65 [==============================] - 25s 389ms/step - loss: 0.0758 - accuracy: 0.9725 - val_loss: 0.1465 - val_accuracy: 0.9548 - lr: 1.6000e-04\n",
            "Epoch 20/20\n",
            "65/65 [==============================] - ETA: 0s - loss: 0.0677 - accuracy: 0.9769\n",
            "Epoch 20: val_accuracy did not improve from 0.96045\n",
            "65/65 [==============================] - 25s 388ms/step - loss: 0.0677 - accuracy: 0.9769 - val_loss: 0.1393 - val_accuracy: 0.9586 - lr: 6.4000e-05\n"
          ]
        }
      ]
    },
    {
      "cell_type": "code",
      "source": [
        "fig, axes = plt.subplots(1, 2, figsize = (12, 4))\n",
        "\n",
        "sns.lineplot(x = range(len(history.history[\"loss\"])),\n",
        "             y = history.history[\"loss\"],\n",
        "             ax = axes[0], label = \"Training Loss\")\n",
        "\n",
        "sns.lineplot(x = range(len(history.history[\"loss\"])),\n",
        "             y = history.history[\"val_loss\"],\n",
        "             ax = axes[0], label = \"Validation Loss\")\n",
        "\n",
        "sns.lineplot(x = range(len(history.history[\"accuracy\"])),\n",
        "             y = history.history[\"accuracy\"],\n",
        "             ax = axes[1], label = \"Training Accuracy\")\n",
        "\n",
        "sns.lineplot(x = range(len(history.history[\"accuracy\"])),\n",
        "             y = history.history[\"val_accuracy\"],\n",
        "             ax = axes[1], label = \"Validation Accuracy\")\n",
        "\n",
        "axes[0].set_title(\"Loss\")\n",
        "axes[1].set_title(\"Accuracy\")\n",
        "fig.suptitle(\"VGG 19\")\n",
        "\n",
        "plt.tight_layout()\n",
        "\n",
        "sns.despine()\n",
        "plt.savefig('inception_v3.eps', format = 'eps', dpi = 1200)\n",
        "plt.savefig('inception_v3.png', format = 'png', dpi = 1200)"
      ],
      "metadata": {
        "colab": {
          "base_uri": "https://localhost:8080/",
          "height": 392
        },
        "id": "OL96FBJQCRT-",
        "outputId": "4386881f-c27d-4fde-89e6-b961b4eefbcd"
      },
      "execution_count": null,
      "outputs": [
        {
          "output_type": "stream",
          "name": "stderr",
          "text": [
            "WARNING:matplotlib.backends.backend_ps:The PostScript backend does not support transparency; partially transparent artists will be rendered opaque.\n"
          ]
        },
        {
          "output_type": "display_data",
          "data": {
            "text/plain": [
              "<Figure size 1200x400 with 2 Axes>"
            ],
            "image/png": "[encoded data removed]"
          },
          "metadata": {}
        }
      ]
    },
    {
      "cell_type": "code",
      "source": [
        "!zip -r /content/inception_v3.zip /custom_cnn.tf"
      ],
      "metadata": {
        "colab": {
          "base_uri": "https://localhost:8080/"
        },
        "id": "PAsDoP4oJQXh",
        "outputId": "7f887450-153c-4bed-c2e1-5ae7f07ac2fa"
      },
      "execution_count": null,
      "outputs": [
        {
          "output_type": "stream",
          "name": "stdout",
          "text": [
            "  adding: custom_cnn.tf/ (stored 0%)\n",
            "  adding: custom_cnn.tf/keras_metadata.pb (deflated 96%)\n",
            "  adding: custom_cnn.tf/assets/ (stored 0%)\n",
            "  adding: custom_cnn.tf/variables/ (stored 0%)\n",
            "  adding: custom_cnn.tf/variables/variables.data-00000-of-00001 (deflated 7%)\n",
            "  adding: custom_cnn.tf/variables/variables.index (deflated 77%)\n",
            "  adding: custom_cnn.tf/fingerprint.pb (stored 0%)\n",
            "  adding: custom_cnn.tf/saved_model.pb (deflated 92%)\n"
          ]
        }
      ]
    },
    {
      "cell_type": "code",
      "source": [
        "!unzip inception_v3.zip"
      ],
      "metadata": {
        "colab": {
          "base_uri": "https://localhost:8080/"
        },
        "id": "Zz2MW3pzPe64",
        "outputId": "fe80b12b-2846-4397-d6e9-c6f958f68610"
      },
      "execution_count": null,
      "outputs": [
        {
          "output_type": "stream",
          "name": "stdout",
          "text": [
            "Archive:  inception_v3.zip\n",
            "   creating: custom_cnn.tf/\n",
            "  inflating: custom_cnn.tf/keras_metadata.pb  \n",
            "   creating: custom_cnn.tf/assets/\n",
            "   creating: custom_cnn.tf/variables/\n",
            "  inflating: custom_cnn.tf/variables/variables.data-00000-of-00001  \n",
            "  inflating: custom_cnn.tf/variables/variables.index  \n",
            " extracting: custom_cnn.tf/fingerprint.pb  \n",
            "  inflating: custom_cnn.tf/saved_model.pb  \n"
          ]
        }
      ]
    },
    {
      "cell_type": "code",
      "source": [
        "!unzip /inception_v3.zip"
      ],
      "metadata": {
        "colab": {
          "base_uri": "https://localhost:8080/"
        },
        "id": "dv8wOBRkYq0b",
        "outputId": "1ac479da-8bdd-4e1a-a9fa-8f24ca0fea5c"
      },
      "execution_count": null,
      "outputs": [
        {
          "output_type": "stream",
          "name": "stdout",
          "text": [
            "Archive:  /inception_v3.zip\n",
            "   creating: custom_cnn.tf/\n",
            "  inflating: custom_cnn.tf/keras_metadata.pb  \n",
            "   creating: custom_cnn.tf/assets/\n",
            "   creating: custom_cnn.tf/variables/\n",
            "  inflating: custom_cnn.tf/variables/variables.data-00000-of-00001  \n",
            "  inflating: custom_cnn.tf/variables/variables.index  \n",
            " extracting: custom_cnn.tf/fingerprint.pb  \n",
            "  inflating: custom_cnn.tf/saved_model.pb  \n"
          ]
        }
      ]
    },
    {
      "cell_type": "code",
      "source": [
        "m2 = tf.keras.models.load_model('/content/custom_cnn.tf')"
      ],
      "metadata": {
        "id": "7S1PgACsV7Cp"
      },
      "execution_count": null,
      "outputs": []
    },
    {
      "cell_type": "code",
      "source": [
        "m2.evaluate(test_set)"
      ],
      "metadata": {
        "colab": {
          "base_uri": "https://localhost:8080/"
        },
        "id": "iBlOyr8MV_P7",
        "outputId": "6be7fa25-2bd0-452e-97c8-40060bd4a020"
      },
      "execution_count": null,
      "outputs": [
        {
          "output_type": "stream",
          "name": "stdout",
          "text": [
            "8/8 [==============================] - 2s 126ms/step - loss: 0.1160 - accuracy: 0.9610\n"
          ]
        },
        {
          "output_type": "execute_result",
          "data": {
            "text/plain": [
              "[0.1160331666469574, 0.9610389471054077]"
            ]
          },
          "metadata": {},
          "execution_count": 93
        }
      ]
    },
    {
      "cell_type": "markdown",
      "source": [
        "<h2>MobileNetv2</h2>\n"
      ],
      "metadata": {
        "id": "VGc3Yrj5O0kf"
      }
    },
    {
      "cell_type": "code",
      "source": [
        "model = keras.applications.MobileNetV2(weights = 'imagenet', include_top = False, input_shape = (224, 224, 3))\n",
        "for layers in model.layers:\n",
        "    layers.trainable = False\n",
        "\n",
        "mobilenetv2 = Sequential([model, Flatten(), Dropout(0.2), Dense(256, activation = 'relu'), Dropout(0.2), Dense(2, activation = 'softmax')])\n",
        "mobilenetv2.summary()\n",
        "mobilenetv2.compile(\n",
        "    optimizer = Adam(lr = 0.01),\n",
        "    loss='categorical_crossentropy',\n",
        "    metrics=['accuracy']\n",
        "  )\n",
        "history = mobilenetv2.fit(\n",
        "    train_set, epochs = 20, validation_data = val_set, callbacks = [reduce_lr, early_stopping, checkpoint]\n",
        ")"
      ],
      "metadata": {
        "colab": {
          "base_uri": "https://localhost:8080/"
        },
        "id": "3NcDIOO0O_OY",
        "outputId": "feb6484f-54a5-4a73-8014-3cace46f774f"
      },
      "execution_count": null,
      "outputs": [
        {
          "output_type": "stream",
          "name": "stdout",
          "text": [
            "Downloading data from https://storage.googleapis.com/tensorflow/keras-applications/mobilenet_v2/mobilenet_v2_weights_tf_dim_ordering_tf_kernels_1.0_224_no_top.h5\n",
            "9406464/9406464 [==============================] - 1s 0us/step\n",
            "Model: \"sequential_8\"\n",
            "_________________________________________________________________\n",
            " Layer (type)                Output Shape              Param #   \n",
            "=================================================================\n",
            " mobilenetv2_1.00_224 (Func  (None, 7, 7, 1280)        2257984   \n",
            " tional)                                                         \n",
            "                                                                 \n",
            " flatten_8 (Flatten)         (None, 62720)             0         \n",
            "                                                                 \n",
            " dropout_16 (Dropout)        (None, 62720)             0         \n",
            "                                                                 \n",
            " dense_16 (Dense)            (None, 256)               16056576  \n",
            "                                                                 \n",
            " dropout_17 (Dropout)        (None, 256)               0         \n",
            "                                                                 \n",
            " dense_17 (Dense)            (None, 2)                 514       \n",
            "                                                                 \n",
            "=================================================================\n",
            "Total params: 18315074 (69.87 MB)\n",
            "Trainable params: 16057090 (61.25 MB)\n",
            "Non-trainable params: 2257984 (8.61 MB)\n",
            "_________________________________________________________________\n"
          ]
        },
        {
          "output_type": "stream",
          "name": "stderr",
          "text": [
            "WARNING:absl:`lr` is deprecated in Keras optimizer, please use `learning_rate` or use the legacy optimizer, e.g.,tf.keras.optimizers.legacy.Adam.\n"
          ]
        },
        {
          "output_type": "stream",
          "name": "stdout",
          "text": [
            "Epoch 1/20\n",
            "65/65 [==============================] - ETA: 0s - loss: 3.1040 - accuracy: 0.8801\n",
            "Epoch 1: val_accuracy did not improve from 0.96045\n",
            "65/65 [==============================] - 32s 411ms/step - loss: 3.1040 - accuracy: 0.8801 - val_loss: 0.2820 - val_accuracy: 0.9397 - lr: 0.0010\n",
            "Epoch 2/20\n",
            "65/65 [==============================] - ETA: 0s - loss: 0.2396 - accuracy: 0.9321\n",
            "Epoch 2: val_accuracy did not improve from 0.96045\n",
            "65/65 [==============================] - 26s 393ms/step - loss: 0.2396 - accuracy: 0.9321 - val_loss: 0.1711 - val_accuracy: 0.9379 - lr: 0.0010\n",
            "Epoch 3/20\n",
            "65/65 [==============================] - ETA: 0s - loss: 0.1789 - accuracy: 0.9427\n",
            "Epoch 3: val_accuracy did not improve from 0.96045\n",
            "65/65 [==============================] - 26s 407ms/step - loss: 0.1789 - accuracy: 0.9427 - val_loss: 0.1677 - val_accuracy: 0.9266 - lr: 0.0010\n",
            "Epoch 4/20\n",
            "65/65 [==============================] - ETA: 0s - loss: 0.1424 - accuracy: 0.9576\n",
            "Epoch 4: val_accuracy did not improve from 0.96045\n",
            "65/65 [==============================] - 26s 396ms/step - loss: 0.1424 - accuracy: 0.9576 - val_loss: 0.1397 - val_accuracy: 0.9529 - lr: 0.0010\n",
            "Epoch 5/20\n",
            "65/65 [==============================] - ETA: 0s - loss: 0.1424 - accuracy: 0.9513\n",
            "Epoch 5: val_accuracy did not improve from 0.96045\n",
            "65/65 [==============================] - 27s 413ms/step - loss: 0.1424 - accuracy: 0.9513 - val_loss: 0.1245 - val_accuracy: 0.9567 - lr: 0.0010\n",
            "Epoch 6/20\n",
            "65/65 [==============================] - ETA: 0s - loss: 0.1130 - accuracy: 0.9663\n",
            "Epoch 6: val_accuracy did not improve from 0.96045\n",
            "65/65 [==============================] - 25s 387ms/step - loss: 0.1130 - accuracy: 0.9663 - val_loss: 0.1331 - val_accuracy: 0.9473 - lr: 0.0010\n",
            "Epoch 7/20\n",
            "65/65 [==============================] - ETA: 0s - loss: 0.1143 - accuracy: 0.9648\n",
            "Epoch 7: val_accuracy did not improve from 0.96045\n",
            "65/65 [==============================] - 25s 390ms/step - loss: 0.1143 - accuracy: 0.9648 - val_loss: 0.1248 - val_accuracy: 0.9586 - lr: 0.0010\n",
            "Epoch 8/20\n",
            "65/65 [==============================] - ETA: 0s - loss: 0.0963 - accuracy: 0.9663\n",
            "Epoch 8: val_accuracy did not improve from 0.96045\n",
            "65/65 [==============================] - 26s 393ms/step - loss: 0.0963 - accuracy: 0.9663 - val_loss: 0.1331 - val_accuracy: 0.9548 - lr: 0.0010\n",
            "Epoch 9/20\n",
            "65/65 [==============================] - ETA: 0s - loss: 0.0986 - accuracy: 0.9677\n",
            "Epoch 9: val_accuracy did not improve from 0.96045\n",
            "65/65 [==============================] - 25s 389ms/step - loss: 0.0986 - accuracy: 0.9677 - val_loss: 0.1590 - val_accuracy: 0.9473 - lr: 0.0010\n",
            "Epoch 10/20\n",
            "65/65 [==============================] - ETA: 0s - loss: 0.1238 - accuracy: 0.9586\n",
            "Epoch 10: val_accuracy improved from 0.96045 to 0.96234, saving model to /custom_cnn.tf\n"
          ]
        },
        {
          "output_type": "stream",
          "name": "stderr",
          "text": [
            "WARNING:absl:`mobilenetv2_1.00_224_input` is not a valid tf.function parameter name. Sanitizing to `mobilenetv2_1_00_224_input`.\n",
            "WARNING:absl:`mobilenetv2_1.00_224_input` is not a valid tf.function parameter name. Sanitizing to `mobilenetv2_1_00_224_input`.\n",
            "WARNING:absl:`mobilenetv2_1.00_224_input` is not a valid tf.function parameter name. Sanitizing to `mobilenetv2_1_00_224_input`.\n"
          ]
        },
        {
          "output_type": "stream",
          "name": "stdout",
          "text": [
            "\b\b\b\b\b\b\b\b\b\b\b\b\b\b\b\b\b\b\b\b\b\b\b\b\b\b\b\b\b\b\b\b\b\b\b\b\b\b\b\b\b\b\b\b\b\b\b\b\b\b\b\b\b\b\b\b\b\b\b\b\b\b\b\b\b\b\b\b\b\b\b\b\b\b\b\b\b\b\b\b\b\b\r65/65 [==============================] - 40s 622ms/step - loss: 0.1238 - accuracy: 0.9586 - val_loss: 0.1175 - val_accuracy: 0.9623 - lr: 0.0010\n",
            "Epoch 11/20\n",
            "65/65 [==============================] - ETA: 0s - loss: 0.0920 - accuracy: 0.9697\n",
            "Epoch 11: val_accuracy did not improve from 0.96234\n",
            "65/65 [==============================] - 26s 396ms/step - loss: 0.0920 - accuracy: 0.9697 - val_loss: 0.2003 - val_accuracy: 0.9548 - lr: 0.0010\n",
            "Epoch 12/20\n",
            "65/65 [==============================] - ETA: 0s - loss: 0.0915 - accuracy: 0.9648\n",
            "Epoch 12: val_accuracy did not improve from 0.96234\n",
            "65/65 [==============================] - 26s 393ms/step - loss: 0.0915 - accuracy: 0.9648 - val_loss: 0.1623 - val_accuracy: 0.9510 - lr: 0.0010\n",
            "Epoch 13/20\n",
            "65/65 [==============================] - ETA: 0s - loss: 0.0856 - accuracy: 0.9730\n",
            "Epoch 13: val_accuracy did not improve from 0.96234\n",
            "65/65 [==============================] - 26s 393ms/step - loss: 0.0856 - accuracy: 0.9730 - val_loss: 0.1273 - val_accuracy: 0.9567 - lr: 0.0010\n",
            "Epoch 14/20\n",
            "65/65 [==============================] - ETA: 0s - loss: 0.1001 - accuracy: 0.9639\n",
            "Epoch 14: ReduceLROnPlateau reducing learning rate to 0.0004000000189989805.\n",
            "\n",
            "Epoch 14: val_accuracy did not improve from 0.96234\n",
            "65/65 [==============================] - 25s 389ms/step - loss: 0.1001 - accuracy: 0.9639 - val_loss: 0.1533 - val_accuracy: 0.9567 - lr: 0.0010\n",
            "Epoch 15/20\n",
            "65/65 [==============================] - ETA: 0s - loss: 0.0699 - accuracy: 0.9769\n",
            "Epoch 15: val_accuracy did not improve from 0.96234\n",
            "65/65 [==============================] - 25s 391ms/step - loss: 0.0699 - accuracy: 0.9769 - val_loss: 0.1362 - val_accuracy: 0.9529 - lr: 4.0000e-04\n",
            "Epoch 16/20\n",
            "65/65 [==============================] - ETA: 0s - loss: 0.0510 - accuracy: 0.9812\n",
            "Epoch 16: val_accuracy did not improve from 0.96234\n",
            "65/65 [==============================] - 25s 391ms/step - loss: 0.0510 - accuracy: 0.9812 - val_loss: 0.1349 - val_accuracy: 0.9623 - lr: 4.0000e-04\n",
            "Epoch 17/20\n",
            "65/65 [==============================] - ETA: 0s - loss: 0.0491 - accuracy: 0.9851\n",
            "Epoch 17: val_accuracy did not improve from 0.96234\n",
            "65/65 [==============================] - 25s 387ms/step - loss: 0.0491 - accuracy: 0.9851 - val_loss: 0.1432 - val_accuracy: 0.9492 - lr: 4.0000e-04\n",
            "Epoch 18/20\n",
            "65/65 [==============================] - ETA: 0s - loss: 0.0469 - accuracy: 0.9822\n",
            "Epoch 18: val_accuracy improved from 0.96234 to 0.96422, saving model to /custom_cnn.tf\n"
          ]
        },
        {
          "output_type": "stream",
          "name": "stderr",
          "text": [
            "WARNING:absl:`mobilenetv2_1.00_224_input` is not a valid tf.function parameter name. Sanitizing to `mobilenetv2_1_00_224_input`.\n",
            "WARNING:absl:`mobilenetv2_1.00_224_input` is not a valid tf.function parameter name. Sanitizing to `mobilenetv2_1_00_224_input`.\n"
          ]
        },
        {
          "output_type": "stream",
          "name": "stdout",
          "text": [
            "\b\b\b\b\b\b\b\b\b\b\b\b\b\b\b\b\b\b\b\b\b\b\b\b\b\b\b\b\b\b\b\b\b\b\b\b\b\b\b\b\b\b\b\b\b\b\b\b\b\b\b\b\b\b\b\b\b\b\b\b\b\b\b\b\b\b\b\b\b\b\b\b\b\b\b\b\b\b\b\b\b\b\r65/65 [==============================] - 41s 640ms/step - loss: 0.0469 - accuracy: 0.9822 - val_loss: 0.1405 - val_accuracy: 0.9642 - lr: 4.0000e-04\n",
            "Epoch 19/20\n",
            "65/65 [==============================] - ETA: 0s - loss: 0.0558 - accuracy: 0.9798\n",
            "Epoch 19: val_accuracy did not improve from 0.96422\n",
            "65/65 [==============================] - 25s 387ms/step - loss: 0.0558 - accuracy: 0.9798 - val_loss: 0.1532 - val_accuracy: 0.9548 - lr: 4.0000e-04\n",
            "Epoch 20/20\n",
            "65/65 [==============================] - ETA: 0s - loss: 0.0441 - accuracy: 0.9836\n",
            "Epoch 20: val_accuracy did not improve from 0.96422\n",
            "65/65 [==============================] - 26s 402ms/step - loss: 0.0441 - accuracy: 0.9836 - val_loss: 0.1591 - val_accuracy: 0.9510 - lr: 4.0000e-04\n"
          ]
        }
      ]
    },
    {
      "cell_type": "code",
      "source": [
        "fig, axes = plt.subplots(1, 2, figsize = (12, 4))\n",
        "\n",
        "sns.lineplot(x = range(len(history.history[\"loss\"])),\n",
        "             y = history.history[\"loss\"],\n",
        "             ax = axes[0], label = \"Training Loss\")\n",
        "\n",
        "sns.lineplot(x = range(len(history.history[\"loss\"])),\n",
        "             y = history.history[\"val_loss\"],\n",
        "             ax = axes[0], label = \"Validation Loss\")\n",
        "\n",
        "sns.lineplot(x = range(len(history.history[\"accuracy\"])),\n",
        "             y = history.history[\"accuracy\"],\n",
        "             ax = axes[1], label = \"Training Accuracy\")\n",
        "\n",
        "sns.lineplot(x = range(len(history.history[\"accuracy\"])),\n",
        "             y = history.history[\"val_accuracy\"],\n",
        "             ax = axes[1], label = \"Validation Accuracy\")\n",
        "\n",
        "axes[0].set_title(\"Loss\")\n",
        "axes[1].set_title(\"Accuracy\")\n",
        "fig.suptitle(\"VGG 19\")\n",
        "\n",
        "plt.tight_layout()\n",
        "\n",
        "sns.despine()\n",
        "plt.savefig('mobile_net_v2.eps', format = 'eps', dpi = 1200)\n",
        "plt.savefig('mobile_net_v2.png', format = 'png', dpi = 1200)"
      ],
      "metadata": {
        "colab": {
          "base_uri": "https://localhost:8080/",
          "height": 450
        },
        "id": "JsjKfaIMPG47",
        "outputId": "94c023f1-cf97-4c70-dc9a-950a7559286a"
      },
      "execution_count": null,
      "outputs": [
        {
          "output_type": "stream",
          "name": "stderr",
          "text": [
            "WARNING:matplotlib.backends.backend_ps:The PostScript backend does not support transparency; partially transparent artists will be rendered opaque.\n"
          ]
        },
        {
          "output_type": "display_data",
          "data": {
            "text/plain": [
              "<Figure size 1200x400 with 2 Axes>"
            ],
            "image/png": "[encoded data removed]"
          },
          "metadata": {}
        }
      ]
    },
    {
      "cell_type": "code",
      "source": [
        "!zip -r /content/mobile_net_v2.zip /custom_cnn.tf"
      ],
      "metadata": {
        "colab": {
          "base_uri": "https://localhost:8080/"
        },
        "id": "zm6hj134Ts1d",
        "outputId": "1ebc1e1d-a97f-4e7e-fe26-6094335a3e4d"
      },
      "execution_count": null,
      "outputs": [
        {
          "output_type": "stream",
          "name": "stdout",
          "text": [
            "  adding: custom_cnn.tf/ (stored 0%)\n",
            "  adding: custom_cnn.tf/keras_metadata.pb (deflated 96%)\n",
            "  adding: custom_cnn.tf/assets/ (stored 0%)\n",
            "  adding: custom_cnn.tf/variables/ (stored 0%)\n",
            "  adding: custom_cnn.tf/variables/variables.data-00000-of-00001 (deflated 30%)\n",
            "  adding: custom_cnn.tf/variables/variables.index (deflated 76%)\n",
            "  adding: custom_cnn.tf/fingerprint.pb (stored 0%)\n",
            "  adding: custom_cnn.tf/saved_model.pb (deflated 91%)\n"
          ]
        }
      ]
    },
    {
      "cell_type": "code",
      "source": [],
      "metadata": {
        "id": "9dhR57-RVp1S"
      },
      "execution_count": null,
      "outputs": []
    },
    {
      "cell_type": "code",
      "source": [
        "m2 = tf.keras.models.load_model('/custom_cnn.tf')"
      ],
      "metadata": {
        "id": "I3Q1vBfETx8z"
      },
      "execution_count": null,
      "outputs": []
    },
    {
      "cell_type": "code",
      "source": [
        "m2.evaluate(test_set)"
      ],
      "metadata": {
        "colab": {
          "base_uri": "https://localhost:8080/"
        },
        "id": "HmJuzBiyUCr1",
        "outputId": "98a22756-7c1c-4d30-d6df-4a60c521d7fe"
      },
      "execution_count": null,
      "outputs": [
        {
          "output_type": "stream",
          "name": "stdout",
          "text": [
            "8/8 [==============================] - 2s 85ms/step - loss: 0.1228 - accuracy: 0.9740\n"
          ]
        },
        {
          "output_type": "execute_result",
          "data": {
            "text/plain": [
              "[0.12280174344778061, 0.9740259647369385]"
            ]
          },
          "metadata": {},
          "execution_count": 80
        }
      ]
    },
    {
      "cell_type": "code",
      "source": [],
      "metadata": {
        "id": "Sj4VeN5DUFaj"
      },
      "execution_count": null,
      "outputs": []
    }
  ]
}